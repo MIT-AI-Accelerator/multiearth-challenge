{
 "cells": [
  {
   "cell_type": "markdown",
   "metadata": {},
   "source": [
    "# tiff_file_tools Function Usage\n",
    "\n",
    "This notebook contains examples for how the simple functions in [tiff_file_tools.py](https://github.com/MIT-AI-Accelerator/multiearth-challenge/blob/main/src/multiearth_challenge/tiff_file_tools.py) can be used to extract metadata from and retrieve aligned imagery from TIFF files provided as part of the MultiEarth challenge. These TIFF files serve as an alternate data storage format for those who prefer them to NETCDF files."
   ]
  },
  {
   "cell_type": "code",
   "execution_count": 1,
   "metadata": {},
   "outputs": [],
   "source": [
    "import pkg_resources\n",
    "\n",
    "from matplotlib import pyplot as plt\n",
    "\n",
    "from multiearth_challenge import tiff_file_tools as tft\n",
    "\n",
    "%matplotlib inline\n",
    "%load_ext autoreload\n",
    "%autoreload 2"
   ]
  },
  {
   "cell_type": "markdown",
   "metadata": {},
   "source": [
    "### Filename Parsing\n",
    "The MultiEarth 2023 TIFF files have encoded into their filename the collecting sensor's name, the sensor band, the latitude and longitude position of the image, and the collection date.  The function [parse_filename_parts](https://github.com/MIT-AI-Accelerator/multiearth-challenge/blob/c2318665ab94451eea4bd1b9e31a71655c6be001/src/multiearth_challenge/zip_file_tools.py#L12) will extract this metadata from the filename."
   ]
  },
  {
   "cell_type": "code",
   "execution_count": 2,
   "metadata": {},
   "outputs": [
    {
     "name": "stdout",
     "output_type": "stream",
     "text": [
      "{'sensor': 'Sentinel1', 'band': 'VH', 'lat': -4.39, 'lon': -55.2, 'date': datetime.date(2019, 6, 8)}\n"
     ]
    }
   ],
   "source": [
    "tiff_path = pkg_resources.resource_filename(\"multiearth_challenge\", \"data/sample_dataset/sent1/Sentinel1_VH_-55.20_-4.39_2019_06_08.tiff\")\n",
    "file_info = tft.parse_filename_parts(tiff_path)\n",
    "print(file_info)"
   ]
  },
  {
   "cell_type": "markdown",
   "metadata": {},
   "source": [
    "### Aligned Imagery\n",
    "The MultiEarth sub-challenges involve retrieving spatially and temporally aligned imagery. The function [get_aligned_images](https://github.com/MIT-AI-Accelerator/multiearth-challenge/blob/c2318665ab94451eea4bd1b9e31a71655c6be001/src/multiearth_challenge/zip_file_tools.py#L79) will identify images that are at the same location and collected within a specified time window of a target image."
   ]
  },
  {
   "cell_type": "code",
   "execution_count": 3,
   "metadata": {},
   "outputs": [],
   "source": [
    "# The paths for images to find spatially and temporally aligned images for.\n",
    "target_images = [\n",
    "    pkg_resources.resource_filename(\"multiearth_challenge\", \"data/sample_dataset/sent2/Sentinel2_B1_-55.20_-4.39_2019_06_06.tiff\"), \n",
    "    pkg_resources.resource_filename(\"multiearth_challenge\", \"data/sample_dataset/sent2/Sentinel2_B1_-55.20_-4.39_2019_06_11.tiff\"), \n",
    "    pkg_resources.resource_filename(\"multiearth_challenge\", \"data/sample_dataset/sent2/Sentinel2_B2_-55.20_-4.39_2019_07_01.tiff\"), \n",
    "    pkg_resources.resource_filename(\"multiearth_challenge\", \"data/sample_dataset/sent2/Sentinel2_B1_-55.20_-4.39_2020_07_20.tiff\"), \n",
    "]\n",
    "\n",
    "#  The paths for images to search to find which ones are aligned with images1.\n",
    "source_images = [\n",
    "    pkg_resources.resource_filename(\"multiearth_challenge\", \"data/sample_dataset/sent1/Sentinel1_VH_-55.20_-4.39_2019_06_08.tiff\"),\n",
    "    pkg_resources.resource_filename(\"multiearth_challenge\", \"data/sample_dataset/sent1/Sentinel1_VH_-55.20_-4.39_2019_05_27.tiff\"),\n",
    "    pkg_resources.resource_filename(\"multiearth_challenge\", \"data/sample_dataset/sent1/Sentinel1_VH_-55.20_-4.39_2019_07_02.tiff\"),\n",
    "]\n",
    "\n",
    "# A window in +- days (inclusive) specifying whether two images were collected close enough in time to be considered aligned.\n",
    "date_window = (-10, 10)\n",
    "\n",
    "image_alignment = tft.get_aligned_images(\n",
    "        target_images,\n",
    "        source_images,\n",
    "        date_window,\n",
    ")"
   ]
  },
  {
   "cell_type": "markdown",
   "metadata": {},
   "source": [
    "The output is a dictionary with keys being each target image path and the associated value being a list of aligned source image paths."
   ]
  },
  {
   "cell_type": "code",
   "execution_count": 4,
   "metadata": {},
   "outputs": [
    {
     "name": "stdout",
     "output_type": "stream",
     "text": [
      "Target image: Sentinel2_B1_-55.20_-4.39_2019_06_06.tiff aligned with:\n",
      "    Source image: Sentinel1_VH_-55.20_-4.39_2019_06_08.tiff\n",
      "    Source image: Sentinel1_VH_-55.20_-4.39_2019_05_27.tiff\n",
      "Target image: Sentinel2_B1_-55.20_-4.39_2019_06_11.tiff aligned with:\n",
      "    Source image: Sentinel1_VH_-55.20_-4.39_2019_06_08.tiff\n",
      "Target image: Sentinel2_B2_-55.20_-4.39_2019_07_01.tiff aligned with:\n",
      "    Source image: Sentinel1_VH_-55.20_-4.39_2019_07_02.tiff\n",
      "Target image: Sentinel2_B1_-55.20_-4.39_2020_07_20.tiff aligned with:\n",
      "    None\n"
     ]
    }
   ],
   "source": [
    "for target_path, source_paths in image_alignment.items():\n",
    "    print(f\"Target image: {target_path.name} aligned with:\")\n",
    "    for source_path in source_paths:\n",
    "        print(f\"    Source image: {source_path.name}\")\n",
    "    if not len(source_paths):\n",
    "        print(\"    None\")"
   ]
  }
 ],
 "metadata": {
  "kernelspec": {
   "display_name": "Python [conda env:.conda-mv4sar]",
   "language": "python",
   "name": "conda-env-.conda-mv4sar-py"
  },
  "language_info": {
   "codemirror_mode": {
    "name": "ipython",
    "version": 3
   },
   "file_extension": ".py",
   "mimetype": "text/x-python",
   "name": "python",
   "nbconvert_exporter": "python",
   "pygments_lexer": "ipython3",
   "version": "3.9.10"
  }
 },
 "nbformat": 4,
 "nbformat_minor": 4
}
