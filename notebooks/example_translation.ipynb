{
 "cells": [
  {
   "cell_type": "markdown",
   "metadata": {},
   "source": [
    "# SARToVisibleDataset Class Usage\n",
    "\n",
    "This notebook contains examples for how the [SARToVisibleDataset](https://github.com/MIT-AI-Accelerator/multiearth-challenge/blob/c2318665ab94451eea4bd1b9e31a71655c6be001/src/multiearth_challenge/datasets/translation_dataset.py#L10) class can be used to sample data from the NetCDF files provided as part of the MultiEarth challenge."
   ]
  },
  {
   "cell_type": "code",
   "execution_count": null,
   "metadata": {},
   "outputs": [],
   "source": [
    "import pkg_resources\n",
    "\n",
    "from matplotlib import pyplot as plt\n",
    "import numpy as np\n",
    "\n",
    "from multiearth_challenge.datasets import translation_dataset as td\n",
    "\n",
    "%matplotlib inline\n",
    "%load_ext autoreload\n",
    "%autoreload 2"
   ]
  },
  {
   "cell_type": "markdown",
   "metadata": {},
   "source": [
    "### Specifying Dataset Data\n",
    "In this example, Sentinel-1 SAR imagery will serve as the source imagery and Sentinel-2 visible imagery will serve as the target."
   ]
  },
  {
   "cell_type": "code",
   "execution_count": null,
   "metadata": {},
   "outputs": [],
   "source": [
    "# Set data paths to sample data included as part of the MultiEarth repository\n",
    "sar_files = [pkg_resources.resource_filename(\"multiearth_challenge\", \"data/sample_dataset/sent1_sample.nc\")]\n",
    "visible_files = [pkg_resources.resource_filename(\"multiearth_challenge\", \"data/sample_dataset/sent2_sample.nc\")]"
   ]
  },
  {
   "cell_type": "markdown",
   "metadata": {},
   "source": [
    "Specify the bands to include for the source and target data. For source data from Sentinel-1 a list containing 'VV' and / or 'VH' polarizations specifies the desired bands.\n",
    "\n",
    "For target imagery, the desired bands are set with a dictionary whose keys are the sensor and the values are a list of bands.</br>\n",
    "Acceptable sensor and visible band values are:</br>\n",
    "\"Landsat-5\": [\"SR_B3\", \"SR_B2\", \"SR_B1\"]</br>\n",
    "\"Landsat-8\": [\"SR_B4\", \"SR_B3\", \"SR_B2\"]</br>\n",
    "\"Sentinel-2\": [\"B4\", \"B3\", \"B2\"]</br> "
   ]
  },
  {
   "cell_type": "code",
   "execution_count": null,
   "metadata": {},
   "outputs": [],
   "source": [
    "sar_bands =[\"VV\", \"VH\"] # VV and VH polarizations\n",
    "\n",
    "# All RGB bands for Sentinel-2 are specified here, but the default value for SARToVisibleDataset initialize will automatically select all visible bands automatically.\n",
    "visible_bands = {\n",
    "    \"Sentinel-2\": [\"B4\", \"B3\", \"B2\"],\n",
    "}"
   ]
  },
  {
   "cell_type": "markdown",
   "metadata": {},
   "source": [
    "### Creating the Dataset\n",
    "Set additional parameters used by the SARToVisibleDataset"
   ]
  },
  {
   "cell_type": "code",
   "execution_count": null,
   "metadata": {},
   "outputs": [],
   "source": [
    "# If True, returned source images will have multiple channels in increasing order of frequency (e.g., red, green, blue for visible), co-pol before cross-pol, and with bands not originating from collected imagery coming last and in alphabetical order. \n",
    "# The metadata returned with the imagery will also specify the channel order. If False, each band is treated as a separate sample.\n",
    "merge_sar_bands = False # bool\n",
    "merge_visible_bands = False # bool\n",
    "\n",
    "# The maximum allowable cloud coverage allowed in visible imagery as a fraction [0, 1]. Setting the maximum above 0 may be useful to incorporate additional samples even if the truth visible image is slightly obscured.\n",
    "# Note, there may be some innacuracies in the identified cloud coverage provided by the sensor's QA bands. This is especially true for Sentinel-2 data.\n",
    "max_visible_cloud_coverage = 0.0 # bool\n",
    "\n",
    "# The minimum and maximum inclusive relative time window in days around the segmentation image from which source imagery is pulled. \n",
    "# If the minimum is None, there is no filter on the minimum relative date. Similarly, no maximum can be specified with a value of None.\n",
    "# For example, with a value of (-7, 7) only SAR imagery within the interval of -7 days before and 7 days after a visible image date will be returned as source imagery. \n",
    "sar_date_window = (-7, 7) # Tuple[Optional[float], Optional[float]]\n",
    "\n",
    "# If True, for each target image only a single source image is returned in a unique pair. A single source image may be paired with multiple target images and vice-versa depending on data filters applied. \n",
    "# If False, each target image is returned with all source images at the same location that satisfy applied data filters. This may be useful if you want to include information from multiple images when making a single segmentation prediction.\n",
    "single_source_image = True\n",
    "\n",
    "# If True, if no source or target image remain after data filtering, raise a ValueError, otherwise this dataset will have length 0. \n",
    "error_on_empty = True # bool"
   ]
  },
  {
   "cell_type": "markdown",
   "metadata": {},
   "source": [
    "Create the dataset. The sample data is small, but depending on the number of images contained in the NetCDF files, calculating the cloud coverage statistics may take several minutes."
   ]
  },
  {
   "cell_type": "code",
   "execution_count": null,
   "metadata": {},
   "outputs": [],
   "source": [
    "dataset = td.SARToVisibleDataset(\n",
    "    sar_files,\n",
    "    visible_files,\n",
    "    sar_bands,\n",
    "    merge_sar_bands,\n",
    "    sar_date_window,\n",
    "    visible_bands,\n",
    "    merge_visible_bands,\n",
    "    max_visible_cloud_coverage,\n",
    "    single_source_image,\n",
    "    error_on_empty,       \n",
    ")   "
   ]
  },
  {
   "cell_type": "markdown",
   "metadata": {},
   "source": [
    "### Data Returned by the Dataset\n",
    "The dataset serves as a sequence of samples. Each call to \\_\\_getitem__ will return a two element tuple where the second element holds a dictionary with a single target image and associated metadata. The first element holds a list of dictionaries where each one holds a source image along with associated metadata at the same location that satisfies the source_date_window. If single_source_image is True, this will always be a one element list with the multiple possible pairings being returned as separate samples.\n",
    "\n",
    "Note, the returned source data is cloud free and within +- 10 days of the target visible image date. Cloud coverage is determined by information in the sensor's QA band, which may have inaccuracies."
   ]
  },
  {
   "cell_type": "code",
   "execution_count": null,
   "metadata": {},
   "outputs": [],
   "source": [
    "print(f\"Number of dataset samples: {len(dataset)}\")\n",
    "\n",
    "# Get sample with index 10\n",
    "source_data, target_data = dataset[10]\n",
    "\n",
    "# The returned source_data is a list of all data related to a target image. \n",
    "# During initialization since single_source_image was set to True, this list will always have one element.\n",
    "print(f\"Source data key values returned: {source_data[0].keys()}\")\n",
    "print(f\"Target data key values returned: {target_data.keys()}\")"
   ]
  },
  {
   "cell_type": "markdown",
   "metadata": {},
   "source": [
    "### Single channel vs. Multi-channel Imagery\n",
    "The returned source images in the dataset above are single band and there are separate paired samples for each band. Below is an example where the bands have been merged into a 3-channel RGB image."
   ]
  },
  {
   "cell_type": "code",
   "execution_count": null,
   "metadata": {},
   "outputs": [],
   "source": [
    "# Make a second dataset with merged bands\n",
    "merge_sar_bands = True\n",
    "merge_visible_bands = True\n",
    "dataset_merged_bands = td.SARToVisibleDataset(\n",
    "    sar_files,\n",
    "    visible_files,\n",
    "    sar_bands,\n",
    "    merge_sar_bands,\n",
    "    sar_date_window,\n",
    "    visible_bands,\n",
    "    merge_visible_bands,\n",
    "    max_visible_cloud_coverage,\n",
    "    single_source_image,\n",
    "    error_on_empty,       \n",
    ")   \n",
    "\n",
    "# 1/3 the target samples are merged and 1/2 the source samples are merged resulting in 1/6 of the number of samples compared to separate bands.\n",
    "print(f\"Number of merged band dataset samples: {len(dataset_merged_bands)}\") \n",
    "\n",
    "# Get sample with index 2\n",
    "source_data_merged_bands, target_data_merged_bands = dataset_merged_bands[2]\n",
    "print(f\"Shape of source image without merging bands: {source_data[0]['image'].shape}\")\n",
    "print(f\"List of bands associated with the single band source image: {source_data[0]['bands']}\")\n",
    "print(f\"Shape of the target image without merging bands: {target_data['image'].shape}\")\n",
    "print(f\"List of bands associated with the single band target image: {target_data['bands']}\\n\")\n",
    "\n",
    "print(f\"Shape of the source image with merged bands: {source_data_merged_bands[0]['image'].shape}\")\n",
    "print(f\"List of bands associated with the multi-band source image: {source_data_merged_bands[0]['bands']}\") # This list corresponds to the channels in the image with the first band corresponding to channel index 0, the second channel index 1, etc.\n",
    "print(f\"Shape of the target image with merged bands: {target_data_merged_bands['image'].shape}\")\n",
    "print(f\"List of bands associated with the multi-band target image: {target_data_merged_bands['bands']}\") # This list corresponds to the channels in the image with the first band corresponding to channel index 0, the second channel index 1, etc."
   ]
  },
  {
   "cell_type": "markdown",
   "metadata": {},
   "source": [
    "### Image Characteristics\n",
    "The collected images may require normalization for visualization. Here we perform a simple normalization without color balancing.</br>\n",
    "The images plotted below demonstrate some of the challenges working with SAR imagery, where the landscape features may be visually very different than those in visible imagery.</br>\n",
    "Also, it should be noted that the filtering of cloudy images uses the Sentinel-2 QA band which may have inaccuracies resulting in some images with high pixel value cloud coverage obscuring land. Additional filtering or masking of cloud coverage can be applied if needed."
   ]
  },
  {
   "cell_type": "code",
   "execution_count": null,
   "metadata": {},
   "outputs": [],
   "source": [
    "def normalize(img):\n",
    "    img = img.astype(np.float64)\n",
    "    img -= np.mean(img)\n",
    "    img_std = np.std(img)\n",
    "    img += img_std\n",
    "    img /= img_std * 4.0\n",
    "    img = np.clip(img, 0, 1)\n",
    "    return img"
   ]
  },
  {
   "cell_type": "code",
   "execution_count": null,
   "metadata": {},
   "outputs": [],
   "source": [
    "fig1, axs1 = plt.subplots(1, 2)\n",
    "fig1.suptitle(\"Single Band Example (source / target)\")\n",
    "axs1[0].set_title(f\"{source_data[0]['data_source']}\\n{source_data[0]['bands']}\")\n",
    "_ = axs1[0].imshow(normalize(source_data[0][\"image\"].squeeze()), cmap=\"gray\")\n",
    "axs1[1].set_title(f\"{target_data['data_source']}\\n{target_data['bands']}\")\n",
    "_ = axs1[1].imshow(normalize(target_data[\"image\"].squeeze()), cmap=\"gray\")\n",
    "\n",
    "# Plot the single band Sentinel-1 source image and the RGB Sentinel-2 target image\n",
    "fig2, axs2 = plt.subplots(1, 2)\n",
    "fig2.suptitle(\"Multi-Band Target Example (source / target)\")\n",
    "axs2[0].set_title(f\"{source_data[0]['data_source']}\\n{source_data[0]['bands']}\")\n",
    "_ = axs2[0].imshow(normalize(source_data[0][\"image\"]).squeeze(), cmap=\"gray\")\n",
    "axs2[1].set_title(f\"{target_data_merged_bands['data_source']}\\n{target_data_merged_bands['bands']}\")\n",
    "_ = axs2[1].imshow(normalize(target_data_merged_bands[\"image\"]).transpose((1, 2, 0)), cmap=\"gray\")"
   ]
  },
  {
   "cell_type": "markdown",
   "metadata": {},
   "source": [
    "### Closing the Datasets\n",
    "The SARToVisibleDataset class holds an open file handle to the NetCDF files which need to be manually closed."
   ]
  },
  {
   "cell_type": "code",
   "execution_count": null,
   "metadata": {},
   "outputs": [],
   "source": [
    "dataset.close()\n",
    "dataset_merged_bands.close()"
   ]
  },
  {
   "cell_type": "markdown",
   "metadata": {},
   "source": [
    "### Incorporation into Training and Evaluation\n",
    "This dataset can be wrapped in a straightforward manner for use in a desired ML training / evaluation framework, allowing for selection of desired data from within the returned dictionary, applying data transforms such as image resizing, and converting to framework compatible types."
   ]
  }
 ],
 "metadata": {
  "kernelspec": {
   "display_name": "Python 3 (ipykernel)",
   "language": "python",
   "name": "python3"
  },
  "language_info": {
   "codemirror_mode": {
    "name": "ipython",
    "version": 3
   },
   "file_extension": ".py",
   "mimetype": "text/x-python",
   "name": "python",
   "nbconvert_exporter": "python",
   "pygments_lexer": "ipython3",
   "version": "3.8.13"
  }
 },
 "nbformat": 4,
 "nbformat_minor": 4
}
